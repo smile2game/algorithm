{
 "cells": [
  {
   "cell_type": "code",
   "execution_count": 1,
   "id": "6a5223e4",
   "metadata": {
    "_cell_guid": "b1076dfc-b9ad-4769-8c92-a6c4dae69d19",
    "_uuid": "8f2839f25d086af736a60e9eeb907d3b93b6e0e5",
    "execution": {
     "iopub.execute_input": "2023-12-07T13:23:19.348991Z",
     "iopub.status.busy": "2023-12-07T13:23:19.348688Z",
     "iopub.status.idle": "2023-12-07T13:23:20.145381Z",
     "shell.execute_reply": "2023-12-07T13:23:20.144403Z"
    },
    "papermill": {
     "duration": 0.803387,
     "end_time": "2023-12-07T13:23:20.147828",
     "exception": false,
     "start_time": "2023-12-07T13:23:19.344441",
     "status": "completed"
    },
    "tags": []
   },
   "outputs": [],
   "source": [
    "# This Python 3 environment comes with many helpful analytics libraries installed\n",
    "# It is defined by the kaggle/python Docker image: https://github.com/kaggle/docker-python\n",
    "# For example, here's several helpful packages to load\n",
    "\n",
    "import numpy as np # linear algebra\n",
    "import pandas as pd # data processing, CSV file I/O (e.g. pd.read_csv)\n",
    "\n",
    "# Input data files are available in the read-only \"../input/\" directory\n",
    "# For example, running this (by clicking run or pressing Shift+Enter) will list all files under the input directory\n",
    "\n",
    "import os\n",
    "for dirname, _, filenames in os.walk('/kaggle/input'):\n",
    "    for filename in filenames:\n",
    "        print(os.path.join(dirname, filename))\n",
    "\n",
    "# You can write up to 20GB to the current directory (/kaggle/working/) that gets preserved as output when you create a version using \"Save & Run All\" \n",
    "# You can also write temporary files to /kaggle/temp/, but they won't be saved outside of the current session"
   ]
  },
  {
   "cell_type": "code",
   "execution_count": 2,
   "id": "9b15f3cf",
   "metadata": {
    "execution": {
     "iopub.execute_input": "2023-12-07T13:23:20.155442Z",
     "iopub.status.busy": "2023-12-07T13:23:20.155054Z",
     "iopub.status.idle": "2023-12-07T13:23:23.954084Z",
     "shell.execute_reply": "2023-12-07T13:23:23.952771Z"
    },
    "papermill": {
     "duration": 3.805107,
     "end_time": "2023-12-07T13:23:23.956213",
     "exception": false,
     "start_time": "2023-12-07T13:23:20.151106",
     "status": "completed"
    },
    "tags": []
   },
   "outputs": [
    {
     "name": "stdout",
     "output_type": "stream",
     "text": [
      "2.0.0\n"
     ]
    }
   ],
   "source": [
    "import torch \n",
    "print(torch.__version__)\n",
    "import torch.nn as nn\n",
    "import math"
   ]
  },
  {
   "cell_type": "markdown",
   "id": "d6ef991a",
   "metadata": {
    "papermill": {
     "duration": 0.002844,
     "end_time": "2023-12-07T13:23:23.962173",
     "exception": false,
     "start_time": "2023-12-07T13:23:23.959329",
     "status": "completed"
    },
    "tags": []
   },
   "source": [
    "![](https://pic4.zhimg.com/80/v2-f476fbc9bc3a39d2fa65707eb0a93417_720w.webp)\n",
    "\n"
   ]
  },
  {
   "cell_type": "markdown",
   "id": "d2a8eb9a",
   "metadata": {
    "papermill": {
     "duration": 0.002598,
     "end_time": "2023-12-07T13:23:23.967576",
     "exception": false,
     "start_time": "2023-12-07T13:23:23.964978",
     "status": "completed"
    },
    "tags": []
   },
   "source": [
    "# 整体结构\n",
    "左边 encoder\n",
    "1. MultiHead Attention 都包含add残差&norm归一化\n",
    "2. MLP \n",
    "\n",
    "右边 decoder\n",
    "1. Masked MultiHead Attention\n",
    "2. MultiHead Attention 都包含add残差&norm归一化\n",
    "3. MLP "
   ]
  },
  {
   "cell_type": "markdown",
   "id": "61c6cb5a",
   "metadata": {
    "papermill": {
     "duration": 0.002587,
     "end_time": "2023-12-07T13:23:23.972927",
     "exception": false,
     "start_time": "2023-12-07T13:23:23.970340",
     "status": "completed"
    },
    "tags": []
   },
   "source": [
    "# 1.输入：embedding层"
   ]
  },
  {
   "cell_type": "code",
   "execution_count": 3,
   "id": "605ee365",
   "metadata": {
    "execution": {
     "iopub.execute_input": "2023-12-07T13:23:23.979842Z",
     "iopub.status.busy": "2023-12-07T13:23:23.979424Z",
     "iopub.status.idle": "2023-12-07T13:23:23.985771Z",
     "shell.execute_reply": "2023-12-07T13:23:23.984904Z"
    },
    "papermill": {
     "duration": 0.011953,
     "end_time": "2023-12-07T13:23:23.987637",
     "exception": false,
     "start_time": "2023-12-07T13:23:23.975684",
     "status": "completed"
    },
    "tags": []
   },
   "outputs": [],
   "source": [
    "class Embeddings(nn.Module):\n",
    "    def __init__(self,d_model,vocab):\n",
    "        \"\"\"\n",
    "        构造函数：\n",
    "        d_model：维度\n",
    "        vocab：词表\n",
    "        \"\"\"\n",
    "        super(Embeddings,self).__init__()  #这里确保继承父类\n",
    "        self.lut = nn.Embedding(vocab,d_model) #词嵌入对象lut\n",
    "        self.d_model = d_model  #得到维度\n",
    "    def forward(self,x):\n",
    "        \"\"\"\n",
    "        Embedding层前向传播\n",
    "        x:word经过词表之后的 one-hot向量\n",
    "        \"\"\"\n",
    "        embedds = self.lut(x) #词嵌入\n",
    "        return embedds * math.sqrt(self.d_model) #实现值放大，因为dimmension对其进行了稀释\n",
    "        "
   ]
  },
  {
   "cell_type": "code",
   "execution_count": 4,
   "id": "1c6ec71d",
   "metadata": {
    "execution": {
     "iopub.execute_input": "2023-12-07T13:23:23.994150Z",
     "iopub.status.busy": "2023-12-07T13:23:23.993864Z",
     "iopub.status.idle": "2023-12-07T13:23:23.998068Z",
     "shell.execute_reply": "2023-12-07T13:23:23.997328Z"
    },
    "papermill": {
     "duration": 0.0096,
     "end_time": "2023-12-07T13:23:23.999963",
     "exception": false,
     "start_time": "2023-12-07T13:23:23.990363",
     "status": "completed"
    },
    "tags": []
   },
   "outputs": [],
   "source": [
    "# # 测试阶段\n",
    "\n",
    "# import torch\n",
    "# import torch.nn as nn\n",
    "\n",
    "# # 定义词汇表大小和词嵌入维度\n",
    "# vocab_size = 10000\n",
    "# embedding_dim = 300\n",
    "\n",
    "# # 创建一个词嵌入层\n",
    "# embedding_layer = nn.Embedding(num_embeddings=vocab_size, embedding_dim=embedding_dim)\n",
    "\n",
    "# # 生成一个输入序列（假设每个句子最大长度为10）\n",
    "# input_sequence = torch.LongTensor([[1, 5, 4, 3, 2, 9, 8, 7, 6, 0]])\n",
    "# print(input_sequence.shape)\n",
    "\n",
    "# # 将输入序列传递给词嵌入层\n",
    "# embedded_output = embedding_layer(input_sequence)\n",
    "# embedds = embedded_output * math.sqrt(embedding_dim)\n",
    "# print(embedded_output)\n",
    "# print(embedded_output.shape)  # 输出嵌入后的张量形状\n",
    "# sum = torch.sum(embedded_output,dim = 2) #后面决定在 哪个维度 求和\n",
    "# print(sum) #看上去 和不确定\n",
    "# print(sum.shape)\n",
    "\n",
    "# print(\"处理后的embedds: \\n\",embedds)\n",
    "\n"
   ]
  },
  {
   "cell_type": "markdown",
   "id": "e557863b",
   "metadata": {
    "papermill": {
     "duration": 0.002634,
     "end_time": "2023-12-07T13:23:24.005330",
     "exception": false,
     "start_time": "2023-12-07T13:23:24.002696",
     "status": "completed"
    },
    "tags": []
   },
   "source": [
    "# 2.位置编码 Positional Encodding"
   ]
  }
 ],
 "metadata": {
  "kaggle": {
   "accelerator": "nvidiaTeslaT4",
   "dataSources": [],
   "dockerImageVersionId": 30588,
   "isGpuEnabled": true,
   "isInternetEnabled": true,
   "language": "python",
   "sourceType": "notebook"
  },
  "kernelspec": {
   "display_name": "Python 3",
   "language": "python",
   "name": "python3"
  },
  "language_info": {
   "codemirror_mode": {
    "name": "ipython",
    "version": 3
   },
   "file_extension": ".py",
   "mimetype": "text/x-python",
   "name": "python",
   "nbconvert_exporter": "python",
   "pygments_lexer": "ipython3",
   "version": "3.10.12"
  },
  "papermill": {
   "default_parameters": {},
   "duration": 9.431228,
   "end_time": "2023-12-07T13:23:25.227736",
   "environment_variables": {},
   "exception": null,
   "input_path": "__notebook__.ipynb",
   "output_path": "__notebook__.ipynb",
   "parameters": {},
   "start_time": "2023-12-07T13:23:15.796508",
   "version": "2.4.0"
  }
 },
 "nbformat": 4,
 "nbformat_minor": 5
}
